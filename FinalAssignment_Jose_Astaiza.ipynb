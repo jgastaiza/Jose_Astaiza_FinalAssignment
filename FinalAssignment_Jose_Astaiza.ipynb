{
 "cells": [
  {
   "cell_type": "markdown",
   "metadata": {},
   "source": [
    "# Proyecto Final\n",
    "Métodos Computacionales para Políticas Públicas - URosario"
   ]
  },
  {
   "cell_type": "markdown",
   "metadata": {},
   "source": [
    "<div class=\"alert alert-success\">\n",
    "**[José Gabriel Astaiza Gómez]** <br><br>\n",
    "[jose.astaiza@urosario.edu.co]\n",
    "</div>"
   ]
  },
  {
   "cell_type": "markdown",
   "metadata": {},
   "source": [
    "---"
   ]
  },
  {
   "cell_type": "markdown",
   "metadata": {},
   "source": [
    "# Importación de librerías"
   ]
  },
  {
   "cell_type": "code",
   "execution_count": 1,
   "metadata": {
    "collapsed": false
   },
   "outputs": [
    {
     "name": "stdout",
     "output_type": "stream",
     "text": [
      "importando librerías...espere \n",
      "done\n"
     ]
    }
   ],
   "source": [
    "print('importando librerías...espere ')\n",
    "from urllib.request import urlopen\n",
    "from bs4 import BeautifulSoup\n",
    "import re\n",
    "import time\n",
    "import pandas as pd\n",
    "import matplotlib\n",
    "import matplotlib.pyplot as plt\n",
    "import numpy\n",
    "import numpy as np\n",
    "import math\n",
    "import statsmodels.formula.api as sm\n",
    "\n",
    "\n",
    "print('done')"
   ]
  },
  {
   "cell_type": "markdown",
   "metadata": {},
   "source": [
    "# Lectura de páginas con Beautifulsoup"
   ]
  },
  {
   "cell_type": "code",
   "execution_count": 2,
   "metadata": {
    "collapsed": false
   },
   "outputs": [
    {
     "name": "stdout",
     "output_type": "stream",
     "text": [
      "leyendo páginas web...espere\n",
      "done\n"
     ]
    }
   ],
   "source": [
    "print('leyendo páginas web...espere')\n",
    "#Datos de riesgo\n",
    "base_url = \"http://www.usbanklocations.com/bank-rank/tier-1-risk-based-capital-ratio---performanceratios--pcr-rbc1rwaj.html\"\n",
    "index_html = urlopen(base_url)\n",
    "index = BeautifulSoup(index_html, \"lxml\")\n",
    "\n",
    "#Datos de depósitos\n",
    "base1_url = \"http://www.usbanklocations.com/bank-rank/demand-deposits---totaldeposits--td-ddt.html\"\n",
    "index1_html = urlopen(base1_url)\n",
    "index1 = BeautifulSoup(index1_html, \"lxml\")\n",
    "\n",
    "print('done')"
   ]
  },
  {
   "cell_type": "markdown",
   "metadata": {},
   "source": [
    "# Creación de listas con observaciones de riesgos y depósitos usando RegEx y conversión a floats"
   ]
  },
  {
   "cell_type": "code",
   "execution_count": 3,
   "metadata": {
    "collapsed": false
   },
   "outputs": [
    {
     "name": "stdout",
     "output_type": "stream",
     "text": [
      "Constuyendo listas con risk ratios y depósitos a la vista...\n",
      "done\n"
     ]
    }
   ],
   "source": [
    "print('Constuyendo listas con risk ratios y depósitos a la vista...')\n",
    "\n",
    "#Risk ratios\n",
    "datos=index.find_all(\"tr\")\n",
    "risk_ratios=[]\n",
    "for x in range(2,len(datos)): \n",
    "    linea=datos[x].get_text('/td') #Obneter las líneas indexadas con </td> en código html de la página   \n",
    "    numero=re.findall('d([^ ]+)%',linea) #De cada línea obtener los dígitos después del caracter 'd' y antes de '%'\n",
    "    numero=numero[0].replace(\",\", \"\") #Eliminar las comas como separador de miles \n",
    "    risk_ratios.append(numero) #Agregar los dígitos obtenidos en la lista risk_ratios\n",
    "for x in range(0,len(risk_ratios)): #Los dígitos son strings. Convertirlos a floats para operaciones.\n",
    "    risk_ratios[x]=float(risk_ratios[x])\n",
    "    \n",
    "#Depósitos a la vista\n",
    "datos1=index1.find_all(\"tr\")\n",
    "demand_deposits=[]\n",
    "for x in range(2,len(datos1)):\n",
    "    linea=datos1[x].get_text('/td')   \n",
    "    numero=re.findall('\\$([^ ]+)\\/',linea)\n",
    "    numero=numero[0].replace(\",\", \"\")\n",
    "    demand_deposits.append(numero)\n",
    "for x in range(0,len(demand_deposits)):\n",
    "    demand_deposits[x]=float(demand_deposits[x])\n",
    "    demand_deposits[x]=(demand_deposits[x])/1000000 #se divide entre 1000000 para que la escala sea manejable gráficamente\n",
    "\n",
    "#Depósitos en logaritmos\n",
    "log_demand_deposits=[]\n",
    "for x in range(2,len(datos1)):\n",
    "    linea=datos1[x].get_text('/td')   \n",
    "    numero=re.findall('\\$([^ ]+)\\/',linea)\n",
    "    numero=numero[0].replace(\",\", \"\")\n",
    "    log_demand_deposits.append(numero)\n",
    "for x in range(0,len(demand_deposits)):\n",
    "    log_demand_deposits[x]=float(log_demand_deposits[x])\n",
    "    if log_demand_deposits[x]>0: #Convertir los números a logaritmos. Algunos depósitos son cero. El log está definido para positivos.\n",
    "        log_demand_deposits[x]=math.log(log_demand_deposits[x])\n",
    "    else:\n",
    "        log_demand_deposits[x]=math.log(0.01) #Aproximar a cero por la derecha y tomar el logaritmo para graficar.\n",
    "        \n",
    "print('done')\n"
   ]
  },
  {
   "cell_type": "markdown",
   "metadata": {},
   "source": [
    "# Creación de listas con los nombres de los bancos y limpieza usando RegEx"
   ]
  },
  {
   "cell_type": "code",
   "execution_count": 4,
   "metadata": {
    "collapsed": false
   },
   "outputs": [
    {
     "name": "stdout",
     "output_type": "stream",
     "text": [
      "Construyendo dos listas con nombres de bancos ...\n",
      "done\n"
     ]
    }
   ],
   "source": [
    "print('Construyendo dos listas con nombres de bancos ...')\n",
    "\n",
    "# De cada página se obtienen los nombres de los bancos para garantizar que se puede\n",
    "# cruzar la información sin confundir los datos\n",
    "\n",
    "#Con la web-page de riesgos. Está cargada en 'datos'\n",
    "bancos=[]\n",
    "for x in range(2,len(datos)):\n",
    "    linea=datos[x].get_text('/td')   \n",
    "    banco=re.findall('%/td([\\w+].+)',linea)\n",
    "    bancos.append(banco)\n",
    "for x in range(0,len(bancos)):\n",
    "    bancos[x]=str(bancos[x])\n",
    "    bancos[x]=bancos[x].replace(\"[\", \"\")\n",
    "    bancos[x]=bancos[x].replace(\"]\", \"\")\n",
    "    bancos[x]=bancos[x].replace(\"'\", \"\")\n",
    "    bancos[x]=bancos[x].replace('\"', \"\")\n",
    "\n",
    "#Con la web-page de depósitos. Está cargada en 'datos1'\n",
    "\n",
    "bancos1=[]\n",
    "for x in range(2,len(datos1)):\n",
    "    linea=datos1[x].get_text('/td')   \n",
    "    banco=re.findall('0/td([\\w+].+)',linea)\n",
    "    bancos1.append(banco)\n",
    "for x in range(0,len(bancos1)):\n",
    "    bancos1[x]=str(bancos1[x])\n",
    "    bancos1[x]=bancos1[x].replace(\"[\", \"\")\n",
    "    bancos1[x]=bancos1[x].replace(\"]\", \"\")\n",
    "    bancos1[x]=bancos1[x].replace(\"'\", \"\")\n",
    "    bancos1[x]=bancos1[x].replace(\",\", \"\")\n",
    "    bancos1[x]=bancos1[x].replace(\"$\", \"\")\n",
    "    bancos1[x]=bancos1[x].replace('\"', \"\")\n",
    "\n",
    "print('done')"
   ]
  },
  {
   "cell_type": "markdown",
   "metadata": {},
   "source": [
    "# Verificación del número de observaciones"
   ]
  },
  {
   "cell_type": "code",
   "execution_count": 5,
   "metadata": {
    "collapsed": false
   },
   "outputs": [
    {
     "name": "stdout",
     "output_type": "stream",
     "text": [
      "El número de bancos con info de riesgos es  6058\n",
      "El número de bancos con info de depósitos es  6058\n",
      "El número de ratios es  6058\n",
      "El número de datos de depósitos es  6058\n"
     ]
    }
   ],
   "source": [
    "print('El número de bancos con info de riesgos es ',len(bancos))\n",
    "print('El número de bancos con info de depósitos es ',len(bancos1))\n",
    "print('El número de ratios es ',len(risk_ratios))\n",
    "print('El número de datos de depósitos es ',len(demand_deposits))"
   ]
  },
  {
   "cell_type": "markdown",
   "metadata": {},
   "source": [
    "# Construcción de DataFrames con Pandas"
   ]
  },
  {
   "cell_type": "code",
   "execution_count": 6,
   "metadata": {
    "collapsed": false
   },
   "outputs": [
    {
     "name": "stdout",
     "output_type": "stream",
     "text": [
      "construyendo Data Frames de Bancos-Riesgos y Bancos-Depósitos...\n",
      "done\n",
      "construyendo Data Frame con riesgo y depósitos para cada banco...\n",
      "done\n",
      "exportando DataFrame to csv file\n",
      "done\n"
     ]
    }
   ],
   "source": [
    "print('construyendo Data Frames de Bancos-Riesgos y Bancos-Depósitos...')\n",
    "\n",
    "#Con información de Riesgos\n",
    "df1=pd.DataFrame({'Bancos': bancos})\n",
    "df2=pd.DataFrame({'Riesgo': risk_ratios})\n",
    "Datos=pd.concat([df1,df2], ignore_index=False, axis=1)\n",
    "base=Datos.sort_values(by='Bancos', ascending=1) # Ordeno la base alfabéticamente según el nombre de los bancos\n",
    "\n",
    "#Con información de Depósitos\n",
    "df11=pd.DataFrame({'Bancos': bancos1})\n",
    "df12=pd.DataFrame({'Depositos': demand_deposits})\n",
    "Datos1=pd.concat([df11,df12], ignore_index=False, axis=1)\n",
    "Base1=Datos1.sort_values(by='Bancos', ascending=1) # Ordeno la base alfabéticamente según el nombre de los bancos\n",
    "\n",
    "#Con inforación de Depósitos en logaritmos\n",
    "df21=pd.DataFrame({'Bancos': bancos1})\n",
    "df22=pd.DataFrame({'LogDepositos': log_demand_deposits})\n",
    "Datos2=pd.concat([df21,df22], ignore_index=False, axis=1)\n",
    "Base2=Datos2.sort_values(by='Bancos', ascending=1) # Ordeno la base alfabéticamente según el nombre de los bancos\n",
    "print('done')\n",
    "\n",
    "print('construyendo Data Frame con riesgo y depósitos para cada banco...')\n",
    "base['Depositos']=Base1['Depositos'] #Agrego las observaciones de depósitos a la base Bancos-Riesgos\n",
    "base['LogDepositos']=Base2['LogDepositos'] #Agrego las observaciones de log depósitos a la base Bancos-Riesgos\n",
    "print('done')\n",
    "\n",
    "print('exportando DataFrame to csv file')\n",
    "base.to_csv('base_completa')\n",
    "print('done')\n"
   ]
  },
  {
   "cell_type": "markdown",
   "metadata": {},
   "source": [
    "# Base completa y creación data frame sin outlier "
   ]
  },
  {
   "cell_type": "code",
   "execution_count": 7,
   "metadata": {
    "collapsed": false
   },
   "outputs": [
    {
     "name": "stdout",
     "output_type": "stream",
     "text": [
      "La base de datos de los bancos americanos con su respectivo índice de riesgo y nivel de depósitos en dólares y en logarítmos se muestra abajo.\n",
      "The  risk outlier is in the position  [2768]  and is asociated to HSBC,Delaware (36197%,500.000$). It is important to notice that the second highest risk is just 868.6%.\n"
     ]
    },
    {
     "data": {
      "text/html": [
       "<div>\n",
       "<table border=\"1\" class=\"dataframe\">\n",
       "  <thead>\n",
       "    <tr style=\"text-align: right;\">\n",
       "      <th></th>\n",
       "      <th>Bancos</th>\n",
       "      <th>Riesgo</th>\n",
       "      <th>Depositos</th>\n",
       "      <th>LogDepositos</th>\n",
       "    </tr>\n",
       "  </thead>\n",
       "  <tbody>\n",
       "    <tr>\n",
       "      <th>2440</th>\n",
       "      <td>1880 Bank</td>\n",
       "      <td>16.4798</td>\n",
       "      <td>33.650</td>\n",
       "      <td>17.331524</td>\n",
       "    </tr>\n",
       "    <tr>\n",
       "      <th>5967</th>\n",
       "      <td>1st Advantage Bank</td>\n",
       "      <td>9.3839</td>\n",
       "      <td>0.027</td>\n",
       "      <td>10.203592</td>\n",
       "    </tr>\n",
       "    <tr>\n",
       "      <th>1301</th>\n",
       "      <td>1st Bank</td>\n",
       "      <td>20.7369</td>\n",
       "      <td>63.551</td>\n",
       "      <td>17.967353</td>\n",
       "    </tr>\n",
       "    <tr>\n",
       "      <th>3435</th>\n",
       "      <td>1st Bank &amp; Trust</td>\n",
       "      <td>14.2999</td>\n",
       "      <td>21.449</td>\n",
       "      <td>16.881189</td>\n",
       "    </tr>\n",
       "    <tr>\n",
       "      <th>4778</th>\n",
       "      <td>1st Bank Yuma</td>\n",
       "      <td>12.0775</td>\n",
       "      <td>10.688</td>\n",
       "      <td>16.184632</td>\n",
       "    </tr>\n",
       "    <tr>\n",
       "      <th>2473</th>\n",
       "      <td>1st Bank of Sea Isle City</td>\n",
       "      <td>16.3739</td>\n",
       "      <td>33.073</td>\n",
       "      <td>17.314228</td>\n",
       "    </tr>\n",
       "    <tr>\n",
       "      <th>1339</th>\n",
       "      <td>1st Cameron State Bank</td>\n",
       "      <td>20.5360</td>\n",
       "      <td>62.087</td>\n",
       "      <td>17.944047</td>\n",
       "    </tr>\n",
       "    <tr>\n",
       "      <th>3928</th>\n",
       "      <td>1st Capital Bank</td>\n",
       "      <td>13.4718</td>\n",
       "      <td>16.972</td>\n",
       "      <td>16.647075</td>\n",
       "    </tr>\n",
       "    <tr>\n",
       "      <th>5961</th>\n",
       "      <td>1st Century Bank</td>\n",
       "      <td>9.4275</td>\n",
       "      <td>0.064</td>\n",
       "      <td>11.066638</td>\n",
       "    </tr>\n",
       "    <tr>\n",
       "      <th>5608</th>\n",
       "      <td>1st Colonial Community Bank</td>\n",
       "      <td>10.6431</td>\n",
       "      <td>4.317</td>\n",
       "      <td>15.278071</td>\n",
       "    </tr>\n",
       "    <tr>\n",
       "      <th>3502</th>\n",
       "      <td>1st Community Bank</td>\n",
       "      <td>14.1909</td>\n",
       "      <td>20.850</td>\n",
       "      <td>16.852865</td>\n",
       "    </tr>\n",
       "    <tr>\n",
       "      <th>5319</th>\n",
       "      <td>1st Constitution Bank</td>\n",
       "      <td>11.1946</td>\n",
       "      <td>6.397</td>\n",
       "      <td>15.671340</td>\n",
       "    </tr>\n",
       "    <tr>\n",
       "      <th>1458</th>\n",
       "      <td>1st Equity Bank</td>\n",
       "      <td>20.0169</td>\n",
       "      <td>57.675</td>\n",
       "      <td>17.870334</td>\n",
       "    </tr>\n",
       "    <tr>\n",
       "      <th>417</th>\n",
       "      <td>1st Equity Bank Northwest</td>\n",
       "      <td>31.9691</td>\n",
       "      <td>181.347</td>\n",
       "      <td>19.015923</td>\n",
       "    </tr>\n",
       "    <tr>\n",
       "      <th>1035</th>\n",
       "      <td>1st Financial Bank USA</td>\n",
       "      <td>22.8078</td>\n",
       "      <td>76.864</td>\n",
       "      <td>18.157548</td>\n",
       "    </tr>\n",
       "    <tr>\n",
       "      <th>5060</th>\n",
       "      <td>1st Manatee Bank</td>\n",
       "      <td>11.6512</td>\n",
       "      <td>8.571</td>\n",
       "      <td>15.963895</td>\n",
       "    </tr>\n",
       "    <tr>\n",
       "      <th>2970</th>\n",
       "      <td>1st National Bank</td>\n",
       "      <td>15.2286</td>\n",
       "      <td>26.408</td>\n",
       "      <td>17.089178</td>\n",
       "    </tr>\n",
       "    <tr>\n",
       "      <th>4334</th>\n",
       "      <td>1st Security Bank of Washington</td>\n",
       "      <td>12.7706</td>\n",
       "      <td>13.954</td>\n",
       "      <td>16.451277</td>\n",
       "    </tr>\n",
       "    <tr>\n",
       "      <th>4446</th>\n",
       "      <td>1st Source Bank</td>\n",
       "      <td>12.6004</td>\n",
       "      <td>13.175</td>\n",
       "      <td>16.393832</td>\n",
       "    </tr>\n",
       "    <tr>\n",
       "      <th>5688</th>\n",
       "      <td>1st State Bank</td>\n",
       "      <td>10.4501</td>\n",
       "      <td>3.714</td>\n",
       "      <td>15.127620</td>\n",
       "    </tr>\n",
       "    <tr>\n",
       "      <th>629</th>\n",
       "      <td>1st State Bank of Mason City</td>\n",
       "      <td>27.2782</td>\n",
       "      <td>123.446</td>\n",
       "      <td>18.631314</td>\n",
       "    </tr>\n",
       "    <tr>\n",
       "      <th>2655</th>\n",
       "      <td>1st Summit Bank</td>\n",
       "      <td>15.9717</td>\n",
       "      <td>30.512</td>\n",
       "      <td>17.233631</td>\n",
       "    </tr>\n",
       "    <tr>\n",
       "      <th>5550</th>\n",
       "      <td>1st Trust Bank, Inc.</td>\n",
       "      <td>10.7515</td>\n",
       "      <td>4.771</td>\n",
       "      <td>15.378066</td>\n",
       "    </tr>\n",
       "    <tr>\n",
       "      <th>5873</th>\n",
       "      <td>1st United Bank</td>\n",
       "      <td>9.9423</td>\n",
       "      <td>1.508</td>\n",
       "      <td>14.226295</td>\n",
       "    </tr>\n",
       "    <tr>\n",
       "      <th>1797</th>\n",
       "      <td>21st Century Bank</td>\n",
       "      <td>18.5131</td>\n",
       "      <td>47.498</td>\n",
       "      <td>17.676198</td>\n",
       "    </tr>\n",
       "    <tr>\n",
       "      <th>4703</th>\n",
       "      <td>5Star Bank</td>\n",
       "      <td>12.1951</td>\n",
       "      <td>11.216</td>\n",
       "      <td>16.232852</td>\n",
       "    </tr>\n",
       "    <tr>\n",
       "      <th>372</th>\n",
       "      <td>A J Smith Federal Savings Bank</td>\n",
       "      <td>33.4591</td>\n",
       "      <td>196.302</td>\n",
       "      <td>19.095165</td>\n",
       "    </tr>\n",
       "    <tr>\n",
       "      <th>5723</th>\n",
       "      <td>AB&amp;T National Bank</td>\n",
       "      <td>10.3955</td>\n",
       "      <td>3.390</td>\n",
       "      <td>15.036340</td>\n",
       "    </tr>\n",
       "    <tr>\n",
       "      <th>3013</th>\n",
       "      <td>ABC Bank</td>\n",
       "      <td>15.1380</td>\n",
       "      <td>25.947</td>\n",
       "      <td>17.071567</td>\n",
       "    </tr>\n",
       "    <tr>\n",
       "      <th>5918</th>\n",
       "      <td>ACB Bank</td>\n",
       "      <td>9.6757</td>\n",
       "      <td>0.582</td>\n",
       "      <td>13.274226</td>\n",
       "    </tr>\n",
       "    <tr>\n",
       "      <th>...</th>\n",
       "      <td>...</td>\n",
       "      <td>...</td>\n",
       "      <td>...</td>\n",
       "      <td>...</td>\n",
       "    </tr>\n",
       "    <tr>\n",
       "      <th>1683</th>\n",
       "      <td>Woodlands National Bank</td>\n",
       "      <td>19.0439</td>\n",
       "      <td>50.324</td>\n",
       "      <td>17.733993</td>\n",
       "    </tr>\n",
       "    <tr>\n",
       "      <th>63</th>\n",
       "      <td>Woodruff Federal Savings and Loan Association</td>\n",
       "      <td>72.6282</td>\n",
       "      <td>1672.251</td>\n",
       "      <td>21.237436</td>\n",
       "    </tr>\n",
       "    <tr>\n",
       "      <th>4059</th>\n",
       "      <td>Woodsboro Bank</td>\n",
       "      <td>13.2292</td>\n",
       "      <td>16.040</td>\n",
       "      <td>16.590596</td>\n",
       "    </tr>\n",
       "    <tr>\n",
       "      <th>894</th>\n",
       "      <td>Woodsfield Savings Bank</td>\n",
       "      <td>24.0970</td>\n",
       "      <td>88.863</td>\n",
       "      <td>18.302606</td>\n",
       "    </tr>\n",
       "    <tr>\n",
       "      <th>4220</th>\n",
       "      <td>Woodsville Guaranty Savings Bank</td>\n",
       "      <td>12.9724</td>\n",
       "      <td>14.861</td>\n",
       "      <td>16.514251</td>\n",
       "    </tr>\n",
       "    <tr>\n",
       "      <th>3668</th>\n",
       "      <td>Woori America Bank</td>\n",
       "      <td>13.8906</td>\n",
       "      <td>19.082</td>\n",
       "      <td>16.764256</td>\n",
       "    </tr>\n",
       "    <tr>\n",
       "      <th>5650</th>\n",
       "      <td>Worlds Foremost Bank</td>\n",
       "      <td>10.5526</td>\n",
       "      <td>4.022</td>\n",
       "      <td>15.207290</td>\n",
       "    </tr>\n",
       "    <tr>\n",
       "      <th>264</th>\n",
       "      <td>Worthington Federal Savings Bank, FSB</td>\n",
       "      <td>37.9937</td>\n",
       "      <td>280.727</td>\n",
       "      <td>19.452893</td>\n",
       "    </tr>\n",
       "    <tr>\n",
       "      <th>3102</th>\n",
       "      <td>Worthington National Bank</td>\n",
       "      <td>14.9312</td>\n",
       "      <td>25.034</td>\n",
       "      <td>17.035745</td>\n",
       "    </tr>\n",
       "    <tr>\n",
       "      <th>5993</th>\n",
       "      <td>Wray State Bank</td>\n",
       "      <td>9.1024</td>\n",
       "      <td>0.000</td>\n",
       "      <td>-4.605170</td>\n",
       "    </tr>\n",
       "    <tr>\n",
       "      <th>665</th>\n",
       "      <td>Wrentham Co-operative Bank</td>\n",
       "      <td>26.7626</td>\n",
       "      <td>118.782</td>\n",
       "      <td>18.592800</td>\n",
       "    </tr>\n",
       "    <tr>\n",
       "      <th>2728</th>\n",
       "      <td>Wyoming Bank &amp; Trust</td>\n",
       "      <td>15.8219</td>\n",
       "      <td>29.539</td>\n",
       "      <td>17.201222</td>\n",
       "    </tr>\n",
       "    <tr>\n",
       "      <th>3443</th>\n",
       "      <td>Wyoming Community Bank</td>\n",
       "      <td>14.2816</td>\n",
       "      <td>21.341</td>\n",
       "      <td>16.876141</td>\n",
       "    </tr>\n",
       "    <tr>\n",
       "      <th>4892</th>\n",
       "      <td>Wyoming State Bank</td>\n",
       "      <td>11.9040</td>\n",
       "      <td>9.834</td>\n",
       "      <td>16.101356</td>\n",
       "    </tr>\n",
       "    <tr>\n",
       "      <th>3259</th>\n",
       "      <td>Xenith Bank</td>\n",
       "      <td>14.5970</td>\n",
       "      <td>23.202</td>\n",
       "      <td>16.959749</td>\n",
       "    </tr>\n",
       "    <tr>\n",
       "      <th>5166</th>\n",
       "      <td>Xenith Bank</td>\n",
       "      <td>11.4862</td>\n",
       "      <td>7.606</td>\n",
       "      <td>15.844448</td>\n",
       "    </tr>\n",
       "    <tr>\n",
       "      <th>4468</th>\n",
       "      <td>YNB</td>\n",
       "      <td>12.5651</td>\n",
       "      <td>12.983</td>\n",
       "      <td>16.379151</td>\n",
       "    </tr>\n",
       "    <tr>\n",
       "      <th>5309</th>\n",
       "      <td>Yadkin Bank</td>\n",
       "      <td>11.2083</td>\n",
       "      <td>6.455</td>\n",
       "      <td>15.680366</td>\n",
       "    </tr>\n",
       "    <tr>\n",
       "      <th>93</th>\n",
       "      <td>Yakima Federal Savings and Loan Association</td>\n",
       "      <td>58.8574</td>\n",
       "      <td>977.433</td>\n",
       "      <td>20.700440</td>\n",
       "    </tr>\n",
       "    <tr>\n",
       "      <th>5445</th>\n",
       "      <td>Yampa Valley Bank</td>\n",
       "      <td>10.9435</td>\n",
       "      <td>5.570</td>\n",
       "      <td>15.532906</td>\n",
       "    </tr>\n",
       "    <tr>\n",
       "      <th>5842</th>\n",
       "      <td>York State Bank</td>\n",
       "      <td>10.0429</td>\n",
       "      <td>2.001</td>\n",
       "      <td>14.509158</td>\n",
       "    </tr>\n",
       "    <tr>\n",
       "      <th>5432</th>\n",
       "      <td>York Traditions Bank</td>\n",
       "      <td>10.9735</td>\n",
       "      <td>5.627</td>\n",
       "      <td>15.543087</td>\n",
       "    </tr>\n",
       "    <tr>\n",
       "      <th>2693</th>\n",
       "      <td>Yorktown Bank</td>\n",
       "      <td>15.8926</td>\n",
       "      <td>30.021</td>\n",
       "      <td>17.217408</td>\n",
       "    </tr>\n",
       "    <tr>\n",
       "      <th>14</th>\n",
       "      <td>Young Americans Bank</td>\n",
       "      <td>309.8361</td>\n",
       "      <td>15554.266</td>\n",
       "      <td>23.467601</td>\n",
       "    </tr>\n",
       "    <tr>\n",
       "      <th>4447</th>\n",
       "      <td>Your Community Bank</td>\n",
       "      <td>12.5977</td>\n",
       "      <td>13.171</td>\n",
       "      <td>16.393528</td>\n",
       "    </tr>\n",
       "    <tr>\n",
       "      <th>3997</th>\n",
       "      <td>ZB</td>\n",
       "      <td>13.3285</td>\n",
       "      <td>16.489</td>\n",
       "      <td>16.618204</td>\n",
       "    </tr>\n",
       "    <tr>\n",
       "      <th>508</th>\n",
       "      <td>Zapata National Bank</td>\n",
       "      <td>29.7574</td>\n",
       "      <td>151.776</td>\n",
       "      <td>18.837916</td>\n",
       "    </tr>\n",
       "    <tr>\n",
       "      <th>229</th>\n",
       "      <td>Zavala County Bank</td>\n",
       "      <td>39.9860</td>\n",
       "      <td>326.807</td>\n",
       "      <td>19.604880</td>\n",
       "    </tr>\n",
       "    <tr>\n",
       "      <th>4849</th>\n",
       "      <td>bankcda</td>\n",
       "      <td>11.9606</td>\n",
       "      <td>10.160</td>\n",
       "      <td>16.133969</td>\n",
       "    </tr>\n",
       "    <tr>\n",
       "      <th>4854</th>\n",
       "      <td>mBank</td>\n",
       "      <td>11.9559</td>\n",
       "      <td>10.114</td>\n",
       "      <td>16.129431</td>\n",
       "    </tr>\n",
       "  </tbody>\n",
       "</table>\n",
       "<p>6058 rows × 4 columns</p>\n",
       "</div>"
      ],
      "text/plain": [
       "                                             Bancos    Riesgo  Depositos  \\\n",
       "2440                                      1880 Bank   16.4798     33.650   \n",
       "5967                             1st Advantage Bank    9.3839      0.027   \n",
       "1301                                       1st Bank   20.7369     63.551   \n",
       "3435                               1st Bank & Trust   14.2999     21.449   \n",
       "4778                                  1st Bank Yuma   12.0775     10.688   \n",
       "2473                      1st Bank of Sea Isle City   16.3739     33.073   \n",
       "1339                         1st Cameron State Bank   20.5360     62.087   \n",
       "3928                               1st Capital Bank   13.4718     16.972   \n",
       "5961                               1st Century Bank    9.4275      0.064   \n",
       "5608                    1st Colonial Community Bank   10.6431      4.317   \n",
       "3502                             1st Community Bank   14.1909     20.850   \n",
       "5319                          1st Constitution Bank   11.1946      6.397   \n",
       "1458                                1st Equity Bank   20.0169     57.675   \n",
       "417                       1st Equity Bank Northwest   31.9691    181.347   \n",
       "1035                         1st Financial Bank USA   22.8078     76.864   \n",
       "5060                               1st Manatee Bank   11.6512      8.571   \n",
       "2970                              1st National Bank   15.2286     26.408   \n",
       "4334                1st Security Bank of Washington   12.7706     13.954   \n",
       "4446                                1st Source Bank   12.6004     13.175   \n",
       "5688                                 1st State Bank   10.4501      3.714   \n",
       "629                    1st State Bank of Mason City   27.2782    123.446   \n",
       "2655                                1st Summit Bank   15.9717     30.512   \n",
       "5550                           1st Trust Bank, Inc.   10.7515      4.771   \n",
       "5873                                1st United Bank    9.9423      1.508   \n",
       "1797                              21st Century Bank   18.5131     47.498   \n",
       "4703                                     5Star Bank   12.1951     11.216   \n",
       "372                  A J Smith Federal Savings Bank   33.4591    196.302   \n",
       "5723                             AB&T National Bank   10.3955      3.390   \n",
       "3013                                       ABC Bank   15.1380     25.947   \n",
       "5918                                       ACB Bank    9.6757      0.582   \n",
       "...                                             ...       ...        ...   \n",
       "1683                        Woodlands National Bank   19.0439     50.324   \n",
       "63    Woodruff Federal Savings and Loan Association   72.6282   1672.251   \n",
       "4059                                 Woodsboro Bank   13.2292     16.040   \n",
       "894                         Woodsfield Savings Bank   24.0970     88.863   \n",
       "4220               Woodsville Guaranty Savings Bank   12.9724     14.861   \n",
       "3668                             Woori America Bank   13.8906     19.082   \n",
       "5650                           Worlds Foremost Bank   10.5526      4.022   \n",
       "264           Worthington Federal Savings Bank, FSB   37.9937    280.727   \n",
       "3102                      Worthington National Bank   14.9312     25.034   \n",
       "5993                                Wray State Bank    9.1024      0.000   \n",
       "665                      Wrentham Co-operative Bank   26.7626    118.782   \n",
       "2728                           Wyoming Bank & Trust   15.8219     29.539   \n",
       "3443                         Wyoming Community Bank   14.2816     21.341   \n",
       "4892                             Wyoming State Bank   11.9040      9.834   \n",
       "3259                                    Xenith Bank   14.5970     23.202   \n",
       "5166                                    Xenith Bank   11.4862      7.606   \n",
       "4468                                            YNB   12.5651     12.983   \n",
       "5309                                    Yadkin Bank   11.2083      6.455   \n",
       "93      Yakima Federal Savings and Loan Association   58.8574    977.433   \n",
       "5445                              Yampa Valley Bank   10.9435      5.570   \n",
       "5842                                York State Bank   10.0429      2.001   \n",
       "5432                           York Traditions Bank   10.9735      5.627   \n",
       "2693                                  Yorktown Bank   15.8926     30.021   \n",
       "14                             Young Americans Bank  309.8361  15554.266   \n",
       "4447                            Your Community Bank   12.5977     13.171   \n",
       "3997                                             ZB   13.3285     16.489   \n",
       "508                            Zapata National Bank   29.7574    151.776   \n",
       "229                              Zavala County Bank   39.9860    326.807   \n",
       "4849                                        bankcda   11.9606     10.160   \n",
       "4854                                          mBank   11.9559     10.114   \n",
       "\n",
       "      LogDepositos  \n",
       "2440     17.331524  \n",
       "5967     10.203592  \n",
       "1301     17.967353  \n",
       "3435     16.881189  \n",
       "4778     16.184632  \n",
       "2473     17.314228  \n",
       "1339     17.944047  \n",
       "3928     16.647075  \n",
       "5961     11.066638  \n",
       "5608     15.278071  \n",
       "3502     16.852865  \n",
       "5319     15.671340  \n",
       "1458     17.870334  \n",
       "417      19.015923  \n",
       "1035     18.157548  \n",
       "5060     15.963895  \n",
       "2970     17.089178  \n",
       "4334     16.451277  \n",
       "4446     16.393832  \n",
       "5688     15.127620  \n",
       "629      18.631314  \n",
       "2655     17.233631  \n",
       "5550     15.378066  \n",
       "5873     14.226295  \n",
       "1797     17.676198  \n",
       "4703     16.232852  \n",
       "372      19.095165  \n",
       "5723     15.036340  \n",
       "3013     17.071567  \n",
       "5918     13.274226  \n",
       "...            ...  \n",
       "1683     17.733993  \n",
       "63       21.237436  \n",
       "4059     16.590596  \n",
       "894      18.302606  \n",
       "4220     16.514251  \n",
       "3668     16.764256  \n",
       "5650     15.207290  \n",
       "264      19.452893  \n",
       "3102     17.035745  \n",
       "5993     -4.605170  \n",
       "665      18.592800  \n",
       "2728     17.201222  \n",
       "3443     16.876141  \n",
       "4892     16.101356  \n",
       "3259     16.959749  \n",
       "5166     15.844448  \n",
       "4468     16.379151  \n",
       "5309     15.680366  \n",
       "93       20.700440  \n",
       "5445     15.532906  \n",
       "5842     14.509158  \n",
       "5432     15.543087  \n",
       "2693     17.217408  \n",
       "14       23.467601  \n",
       "4447     16.393528  \n",
       "3997     16.618204  \n",
       "508      18.837916  \n",
       "229      19.604880  \n",
       "4849     16.133969  \n",
       "4854     16.129431  \n",
       "\n",
       "[6058 rows x 4 columns]"
      ]
     },
     "execution_count": 7,
     "metadata": {},
     "output_type": "execute_result"
    }
   ],
   "source": [
    "print('La base de datos de los bancos americanos con su respectivo índice de riesgo y nivel de depósitos en dólares y en logarítmos se muestra abajo.')\n",
    "\n",
    "#Crear base de datos sin outlier de Riesgo\n",
    "print('The  risk outlier is in the position ',np.where(base['Riesgo']==36197.2973)[0],' and is asociated to HSBC,Delaware (36197%,500.000$). It is important to notice that the second highest risk is just 868.6%.')\n",
    "outlier=base.drop(base.index[2768])\n",
    "base"
   ]
  },
  {
   "cell_type": "markdown",
   "metadata": {},
   "source": [
    "# Creación de las estadísticas descriptivas"
   ]
  },
  {
   "cell_type": "code",
   "execution_count": 8,
   "metadata": {
    "collapsed": false
   },
   "outputs": [
    {
     "name": "stdout",
     "output_type": "stream",
     "text": [
      "Las estadísticas descriptivas de la base completa son:\n",
      "             Riesgo      Depositos  LogDepositos\n",
      "count   6058.000000    6058.000000   6058.000000\n",
      "mean      25.402773     260.465357     16.823795\n",
      "std      465.535237    4658.603264      2.944915\n",
      "min        1.594700       0.000000     -4.605170\n",
      "25%       12.478850      12.457000     16.337793\n",
      "50%       15.109700      25.842000     17.067512\n",
      "75%       19.728750      55.820250     17.837647\n",
      "max    36197.297300  258094.000000     26.276590 \n",
      "\n",
      "Las estadísticas descriptivas de la base sin outlier son:\n",
      "            Riesgo      Depositos  LogDepositos\n",
      "count  6057.000000    6057.000000   6057.000000\n",
      "mean     19.430857     217.897496     16.822234\n",
      "std      25.922823    3275.228433      2.942652\n",
      "min       1.594700       0.000000     -4.605170\n",
      "25%      12.478500      12.457000     16.337793\n",
      "50%      15.109400      25.839000     17.067396\n",
      "75%      19.724400      55.815000     17.837553\n",
      "max     868.623800  144521.000000     25.696691\n"
     ]
    }
   ],
   "source": [
    "print('Las estadísticas descriptivas de la base completa son:')\n",
    "print(base.describe(percentiles=None, include=None, exclude=None),'\\n')\n",
    "print('Las estadísticas descriptivas de la base sin outlier son:')\n",
    "print(outlier.describe(percentiles=None, include=None, exclude=None))"
   ]
  },
  {
   "cell_type": "markdown",
   "metadata": {},
   "source": [
    "# Creación de las distribuciones de riesgo y depósitos"
   ]
  },
  {
   "cell_type": "code",
   "execution_count": 9,
   "metadata": {
    "collapsed": false
   },
   "outputs": [
    {
     "name": "stdout",
     "output_type": "stream",
     "text": [
      "La distribución de riesgos entre los bancos americanos sin HSBC es:\n"
     ]
    },
    {
     "data": {
      "image/png": "[encoded data removed]",
      "text/plain": [
       "<matplotlib.figure.Figure at 0xf3735dbe48>"
      ]
     },
     "metadata": {},
     "output_type": "display_data"
    },
    {
     "name": "stdout",
     "output_type": "stream",
     "text": [
      "La distribución de riesgos entre los bancos americanos (base completa) es:\n"
     ]
    },
    {
     "data": {
      "image/png": "[encoded data removed]",
      "text/plain": [
       "<matplotlib.figure.Figure at 0xf3773dd080>"
      ]
     },
     "metadata": {},
     "output_type": "display_data"
    },
    {
     "name": "stdout",
     "output_type": "stream",
     "text": [
      "Se puede observar que la distribución está sesgada por lo que la mayor parte de los bancos tienen un nivel de riesgo de impago menor al promedio (dashed line)\n"
     ]
    }
   ],
   "source": [
    "print('La distribución de riesgos entre los bancos americanos sin HSBC es:')\n",
    "%matplotlib inline\n",
    "\n",
    "\n",
    "\n",
    "#Gráfico 1 Sin outlier\n",
    "#Tipo de gráfico\n",
    "bins = np.arange(-100, 100, 3) \n",
    "plt.xlim([numpy.mean(outlier['Riesgo'])-25, numpy.mean(outlier['Riesgo'])+67])\n",
    "plt.hist(risk_ratios,bins=bins, alpha=0.5)\n",
    "\n",
    "#Título y nombres de ejes\n",
    "plt.title('Risk Distribution (without HSBC)')\n",
    "plt.xlabel('Risk Ratio')\n",
    "plt.ylabel('Count')\n",
    "plt.axvline(numpy.mean(outlier['Riesgo']), color='b', linestyle='dashed', linewidth=2, label='Mean without outlier')\n",
    "plt.legend(loc=0)\n",
    "plt.show()\n",
    "\n",
    "print('La distribución de riesgos entre los bancos americanos (base completa) es:')\n",
    "\n",
    "#Gráfico 2 base completa\n",
    "#Tipo de gráfico\n",
    "bins = np.arange(-100, 100, 3) \n",
    "plt.xlim([numpy.mean(risk_ratios)-25, numpy.mean(risk_ratios)+67])\n",
    "plt.hist(risk_ratios,bins=bins, alpha=0.5)\n",
    "\n",
    "#Título y nombres de ejes\n",
    "plt.title('Risk Distribution (complete base)')\n",
    "plt.xlabel('Risk Ratio')\n",
    "plt.ylabel('Count')\n",
    "\n",
    "#Líneas verticales\n",
    "plt.axvline(numpy.mean(base['Riesgo']), color='b', linestyle='dashed', linewidth=2, label='Mean')\n",
    "plt.axvline(min(base['Riesgo']), color='r', linestyle='dashed', linewidth=2,label='Woodbury')\n",
    "plt.axvline(max(base['Riesgo']), color='g', linestyle='dashed', linewidth=2,label='HSBC,Delaware (36197)')\n",
    "plt.legend(loc=0)\n",
    "\n",
    "plt.show()\n",
    "\n",
    "print('Se puede observar que la distribución está sesgada por lo que la mayor parte de los bancos tienen un nivel de riesgo de impago menor al promedio (dashed line)')"
   ]
  },
  {
   "cell_type": "code",
   "execution_count": 10,
   "metadata": {
    "collapsed": false
   },
   "outputs": [
    {
     "name": "stdout",
     "output_type": "stream",
     "text": [
      "La distribución del nivel de depósitos entre los bancos americanos es:\n"
     ]
    },
    {
     "data": {
      "image/png": "[encoded data removed]",
      "text/plain": [
       "<matplotlib.figure.Figure at 0xf3735db978>"
      ]
     },
     "metadata": {},
     "output_type": "display_data"
    },
    {
     "data": {
      "image/png": "[encoded data removed]",
      "text/plain": [
       "<matplotlib.figure.Figure at 0xf378be1588>"
      ]
     },
     "metadata": {},
     "output_type": "display_data"
    },
    {
     "name": "stdout",
     "output_type": "stream",
     "text": [
      "Se puede observar en la distribución que la mayor parte de los bancos tienen un nivel de depósitos en logaritmos mayor al promedio (dashed line)\n"
     ]
    }
   ],
   "source": [
    "print('La distribución del nivel de depósitos entre los bancos americanos es:')\n",
    "#%matplotlib inline\n",
    "\n",
    "#Gráfico 1 sin HSBC\n",
    "bins = np.arange(-100, 100, 0.5) \n",
    "plt.xlim([numpy.mean(outlier['LogDepositos'])-6, numpy.mean(outlier['LogDepositos'])+10])\n",
    "plt.hist(log_demand_deposits,bins=bins, alpha=0.5)\n",
    "\n",
    "plt.title('Deposits Distribution (logarithms, no HSBC)')\n",
    "plt.xlabel('Deposits')\n",
    "plt.ylabel('Count')\n",
    "plt.axvline(numpy.mean(outlier['LogDepositos']), color='b', linestyle='dashed', linewidth=2,label='Mean')\n",
    "plt.legend(loc=2)\n",
    "\n",
    "plt.show()\n",
    "\n",
    "#Gráfico 2 base completa\n",
    "bins = np.arange(-100, 100, 0.5) \n",
    "plt.xlim([numpy.mean(log_demand_deposits)-24, numpy.mean(log_demand_deposits)+13])\n",
    "plt.hist(log_demand_deposits,bins=bins, alpha=0.5)\n",
    "\n",
    "plt.title('Deposits (logarithms, complete base)')\n",
    "plt.xlabel('Deposits')\n",
    "plt.ylabel('Count')\n",
    "\n",
    "plt.axvline(numpy.mean(log_demand_deposits), color='b', linestyle='dashed', linewidth=2,label='Mean')\n",
    "plt.axvline(min(log_demand_deposits), color='r', linestyle='dashed', linewidth=2,label='Woodruff(0 en nivel)')\n",
    "plt.axvline(max(log_demand_deposits), color='g', linestyle='dashed', linewidth=2,label='JPMorgan Chase Bank')\n",
    "\n",
    "plt.legend(loc=2)\n",
    "\n",
    "plt.show()\n",
    "\n",
    "print('Se puede observar en la distribución que la mayor parte de los bancos tienen un nivel de depósitos en logaritmos mayor al promedio (dashed line)')"
   ]
  },
  {
   "cell_type": "code",
   "execution_count": 11,
   "metadata": {
    "collapsed": false
   },
   "outputs": [
    {
     "name": "stdout",
     "output_type": "stream",
     "text": [
      "La distribución del nivel de depósitos entre los bancos americanos es:\n"
     ]
    },
    {
     "data": {
      "image/png": "[encoded data removed]",
      "text/plain": [
       "<matplotlib.figure.Figure at 0xf3792e7710>"
      ]
     },
     "metadata": {},
     "output_type": "display_data"
    },
    {
     "data": {
      "image/png": "[encoded data removed]",
      "text/plain": [
       "<matplotlib.figure.Figure at 0xf3795872e8>"
      ]
     },
     "metadata": {},
     "output_type": "display_data"
    },
    {
     "name": "stdout",
     "output_type": "stream",
     "text": [
      "Se puede observar en la distribución que la mayor parte de los bancos tienen un nivel de depósitos en logaritmos mayor al promedio (dashed line)\n"
     ]
    }
   ],
   "source": [
    "print('La distribución del nivel de depósitos entre los bancos americanos es:')\n",
    "#%matplotlib inline\n",
    "\n",
    "#Gráfico1 sin HSBC\n",
    "bins = np.arange(-100, 100, 10) \n",
    "plt.xlim([numpy.mean(outlier['Depositos'])-300, numpy.mean(outlier['Depositos'])+300])\n",
    "plt.hist(demand_deposits,bins=bins, alpha=0.5)\n",
    "\n",
    "plt.title('Deposits Distribution no HSBC')\n",
    "plt.xlabel('Deposits (1.000.000)')\n",
    "plt.ylabel('Count')\n",
    "\n",
    "plt.axvline(numpy.mean(outlier['Depositos']), color='b', linestyle='dashed', linewidth=2,label='Mean')\n",
    "plt.axvline(min(outlier['Depositos']), color='r', linestyle='dashed', linewidth=2,label='Min')\n",
    "plt.axvline(max(outlier['Depositos']), color='g', linestyle='dashed', linewidth=2,label='Max')\n",
    "plt.legend()\n",
    "plt.show()\n",
    "\n",
    "#Gráfico 2 base completa\n",
    "bins = np.arange(-100, 100, 10) \n",
    "plt.xlim([numpy.mean(demand_deposits)-5000, numpy.mean(demand_deposits)+300000])\n",
    "plt.hist(demand_deposits,bins=bins, alpha=0.5)\n",
    "\n",
    "plt.title('Deposits Distribution, complete base')\n",
    "plt.xlabel('Deposits (1.000.000)')\n",
    "plt.ylabel('Count')\n",
    "\n",
    "plt.axvline(numpy.mean(demand_deposits), color='b', linestyle='dashed', linewidth=2,label='Mean')\n",
    "plt.axvline(min(demand_deposits), color='r', linestyle='dashed', linewidth=2,label='Woodruff')\n",
    "plt.axvline(max(demand_deposits), color='g', linestyle='dashed', linewidth=2,label='(Max) JPMorgan Chase Bank')\n",
    "plt.axvline(144521, color='g', linestyle='dashed', linewidth=2,label='Bank of America')\n",
    "plt.legend()\n",
    "plt.show()\n",
    "\n",
    "\n",
    "print('Se puede observar en la distribución que la mayor parte de los bancos tienen un nivel de depósitos en logaritmos mayor al promedio (dashed line)')"
   ]
  },
  {
   "cell_type": "markdown",
   "metadata": {},
   "source": [
    "# Scatter plots en LogDepósitos"
   ]
  },
  {
   "cell_type": "code",
   "execution_count": 12,
   "metadata": {
    "collapsed": false,
    "scrolled": true
   },
   "outputs": [
    {
     "data": {
      "image/png": "[encoded data removed]",
      "text/plain": [
       "<matplotlib.figure.Figure at 0xf3735745f8>"
      ]
     },
     "metadata": {},
     "output_type": "display_data"
    }
   ],
   "source": [
    "outlier.plot(title='Without Outlier', x='Riesgo', y='LogDepositos', kind='scatter')\n",
    "plt.show()"
   ]
  },
  {
   "cell_type": "code",
   "execution_count": 13,
   "metadata": {
    "collapsed": false
   },
   "outputs": [
    {
     "data": {
      "image/png": "[encoded data removed]",
      "text/plain": [
       "<matplotlib.figure.Figure at 0xf377baa9e8>"
      ]
     },
     "metadata": {},
     "output_type": "display_data"
    }
   ],
   "source": [
    "base.plot(title='Complete Sample', x='Riesgo', y='LogDepositos', kind='scatter')\n",
    "plt.show()"
   ]
  },
  {
   "cell_type": "markdown",
   "metadata": {},
   "source": [
    "# Scatter plots de Depósito en niveles"
   ]
  },
  {
   "cell_type": "code",
   "execution_count": 14,
   "metadata": {
    "collapsed": false
   },
   "outputs": [
    {
     "data": {
      "image/png": "[encoded data removed]",
      "text/plain": [
       "<matplotlib.figure.Figure at 0xf378c6fdd8>"
      ]
     },
     "metadata": {},
     "output_type": "display_data"
    }
   ],
   "source": [
    "outlier.plot(title='Without Outlier', x='Riesgo', y='Depositos', kind='scatter')\n",
    "plt.show()"
   ]
  },
  {
   "cell_type": "code",
   "execution_count": 15,
   "metadata": {
    "collapsed": false
   },
   "outputs": [
    {
     "data": {
      "image/png": "[encoded data removed]",
      "text/plain": [
       "<matplotlib.figure.Figure at 0xf3792f8c50>"
      ]
     },
     "metadata": {},
     "output_type": "display_data"
    }
   ],
   "source": [
    "base.plot(title='Complete Sample',x='Riesgo', y='Depositos', kind='scatter')\n",
    "plt.show()"
   ]
  },
  {
   "cell_type": "markdown",
   "metadata": {},
   "source": [
    "# Relaciones lineales con statsmodels. Muestra total."
   ]
  },
  {
   "cell_type": "code",
   "execution_count": 16,
   "metadata": {
    "collapsed": false
   },
   "outputs": [
    {
     "name": "stdout",
     "output_type": "stream",
     "text": [
      "Intercept    71.877920\n",
      "Riesgo        7.423892\n",
      "dtype: float64\n"
     ]
    }
   ],
   "source": [
    "#Respecto a Depósitos en niveles\n",
    "result = sm.ols(formula=\"Depositos ~ Riesgo\", data=base).fit()\n",
    "print(result.params)"
   ]
  },
  {
   "cell_type": "code",
   "execution_count": 17,
   "metadata": {
    "collapsed": false
   },
   "outputs": [
    {
     "name": "stdout",
     "output_type": "stream",
     "text": [
      "                            OLS Regression Results                            \n",
      "==============================================================================\n",
      "Dep. Variable:              Depositos   R-squared:                       0.550\n",
      "Model:                            OLS   Adj. R-squared:                  0.550\n",
      "Method:                 Least Squares   F-statistic:                     7413.\n",
      "Date:                Mon, 14 Nov 2016   Prob (F-statistic):               0.00\n",
      "Time:                        17:55:39   Log-Likelihood:                -57343.\n",
      "No. Observations:                6058   AIC:                         1.147e+05\n",
      "Df Residuals:                    6056   BIC:                         1.147e+05\n",
      "Df Model:                           1                                         \n",
      "Covariance Type:            nonrobust                                         \n",
      "==============================================================================\n",
      "                 coef    std err          t      P>|t|      [95.0% Conf. Int.]\n",
      "------------------------------------------------------------------------------\n",
      "Intercept     71.8779     40.197      1.788      0.074        -6.923   150.679\n",
      "Riesgo         7.4239      0.086     86.098      0.000         7.255     7.593\n",
      "==============================================================================\n",
      "Omnibus:                    16507.981   Durbin-Watson:                   1.994\n",
      "Prob(Omnibus):                  0.000   Jarque-Bera (JB):        413211942.356\n",
      "Skew:                          33.826   Prob(JB):                         0.00\n",
      "Kurtosis:                    1280.672   Cond. No.                         467.\n",
      "==============================================================================\n",
      "\n",
      "Warnings:\n",
      "[1] Standard Errors assume that the covariance matrix of the errors is correctly specified.\n"
     ]
    }
   ],
   "source": [
    "print(result.summary())"
   ]
  },
  {
   "cell_type": "code",
   "execution_count": 18,
   "metadata": {
    "collapsed": false
   },
   "outputs": [
    {
     "name": "stdout",
     "output_type": "stream",
     "text": [
      "Intercept    16.814263\n",
      "Riesgo        0.000375\n",
      "dtype: float64\n"
     ]
    }
   ],
   "source": [
    "#Respecto a Depósitos en logaritmos\n",
    "result = sm.ols(formula=\"LogDepositos ~ Riesgo\", data=base).fit()\n",
    "print(result.params)"
   ]
  },
  {
   "cell_type": "markdown",
   "metadata": {},
   "source": [
    "# Relaciones lineales con statsmodels. Muestra sin outlier (HSBC Trust Company (Delaware))"
   ]
  },
  {
   "cell_type": "code",
   "execution_count": 19,
   "metadata": {
    "collapsed": false
   },
   "outputs": [
    {
     "name": "stdout",
     "output_type": "stream",
     "text": [
      "Intercept   -1775.102389\n",
      "Riesgo        102.568809\n",
      "dtype: float64\n"
     ]
    }
   ],
   "source": [
    "#Respecto a Depósitos en niveles\n",
    "result1 = sm.ols(formula=\"Depositos ~ Riesgo\", data=outlier).fit()\n",
    "print(result1.params)\n"
   ]
  },
  {
   "cell_type": "code",
   "execution_count": 20,
   "metadata": {
    "collapsed": false
   },
   "outputs": [
    {
     "name": "stdout",
     "output_type": "stream",
     "text": [
      "                            OLS Regression Results                            \n",
      "==============================================================================\n",
      "Dep. Variable:              Depositos   R-squared:                       0.659\n",
      "Model:                            OLS   Adj. R-squared:                  0.659\n",
      "Method:                 Least Squares   F-statistic:                 1.170e+04\n",
      "Date:                Mon, 14 Nov 2016   Prob (F-statistic):               0.00\n",
      "Time:                        17:55:42   Log-Likelihood:                -54362.\n",
      "No. Observations:                6057   AIC:                         1.087e+05\n",
      "Df Residuals:                    6055   BIC:                         1.087e+05\n",
      "Df Model:                           1                                         \n",
      "Covariance Type:            nonrobust                                         \n",
      "==============================================================================\n",
      "                 coef    std err          t      P>|t|      [95.0% Conf. Int.]\n",
      "------------------------------------------------------------------------------\n",
      "Intercept  -1775.1024     30.714    -57.795      0.000     -1835.312 -1714.893\n",
      "Riesgo       102.5688      0.948    108.184      0.000       100.710   104.427\n",
      "==============================================================================\n",
      "Omnibus:                    13365.358   Durbin-Watson:                   2.014\n",
      "Prob(Omnibus):                  0.000   Jarque-Bera (JB):        135899781.270\n",
      "Skew:                          19.864   Prob(JB):                         0.00\n",
      "Kurtosis:                     735.738   Cond. No.                         40.5\n",
      "==============================================================================\n",
      "\n",
      "Warnings:\n",
      "[1] Standard Errors assume that the covariance matrix of the errors is correctly specified.\n"
     ]
    }
   ],
   "source": [
    "print(result1.summary()) #El R cuad aumenta considerablemente"
   ]
  },
  {
   "cell_type": "code",
   "execution_count": null,
   "metadata": {
    "collapsed": true
   },
   "outputs": [],
   "source": []
  },
  {
   "cell_type": "code",
   "execution_count": null,
   "metadata": {
    "collapsed": true
   },
   "outputs": [],
   "source": []
  }
 ],
 "metadata": {
  "anaconda-cloud": {},
  "kernelspec": {
   "display_name": "Python [Root]",
   "language": "python",
   "name": "Python [Root]"
  },
  "language_info": {
   "codemirror_mode": {
    "name": "ipython",
    "version": 3
   },
   "file_extension": ".py",
   "mimetype": "text/x-python",
   "name": "python",
   "nbconvert_exporter": "python",
   "pygments_lexer": "ipython3",
   "version": "3.5.2"
  }
 },
 "nbformat": 4,
 "nbformat_minor": 0
}
